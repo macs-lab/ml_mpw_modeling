{
  "nbformat": 4,
  "nbformat_minor": 0,
  "metadata": {
    "colab": {
      "name": "LSTM 10 Tracks",
      "provenance": [],
      "collapsed_sections": [],
      "include_colab_link": true
    },
    "kernelspec": {
      "name": "python3",
      "display_name": "Python 3"
    },
    "accelerator": "GPU"
  },
  "cells": [
    {
      "cell_type": "markdown",
      "metadata": {
        "id": "view-in-github",
        "colab_type": "text"
      },
      "source": [
        "<a href=\"https://colab.research.google.com/github/Shim-John/ml_mpw_modeling/blob/master/LSTM_10_Tracks.ipynb\" target=\"_parent\"><img src=\"https://colab.research.google.com/assets/colab-badge.svg\" alt=\"Open In Colab\"/></a>"
      ]
    },
    {
      "cell_type": "code",
      "metadata": {
        "id": "QPOHwp_HNWqg",
        "colab_type": "code",
        "colab": {}
      },
      "source": [
        "from pydrive.auth import GoogleAuth\n",
        "from pydrive.drive import GoogleDrive\n",
        "from google.colab import auth\n",
        "from oauth2client.client import GoogleCredentials\n",
        "\n",
        "auth.authenticate_user()\n",
        "gauth = GoogleAuth()\n",
        "gauth.credentials = GoogleCredentials.get_application_default()\n",
        "drive = GoogleDrive(gauth)\n",
        "\n",
        "downloaded = drive.CreateFile({'id': '1-6tMl7uVzoJMy-rw-dCFlERE6xRuU3zY'})   # replace the id with id of file you want to access\n",
        "downloaded.GetContentFile('DNN_10.csv') \n"
      ],
      "execution_count": null,
      "outputs": []
    },
    {
      "cell_type": "code",
      "metadata": {
        "id": "xLPDdTyVLxBC",
        "colab_type": "code",
        "colab": {
          "base_uri": "https://localhost:8080/",
          "height": 33
        },
        "outputId": "abcde110-302b-460b-923c-5750e31bfcaf"
      },
      "source": [
        "import torch, pandas as pd\n",
        "import torch.nn as nn \n",
        "import torch.nn.functional as F \n",
        "import matplotlib.pyplot as plt\n",
        "%matplotlib inline\n",
        "\n",
        "from torch.autograd import Variable\n",
        "import torch.utils.data as Data\n",
        "import numpy as np, imageio\n",
        "from sklearn.preprocessing import MinMaxScaler\n",
        "\n",
        "device = torch.device('cuda' if torch.cuda.is_available() else 'cpu')\n",
        "\n",
        "torch.manual_seed(1)    # reproducible\n"
      ],
      "execution_count": null,
      "outputs": [
        {
          "output_type": "execute_result",
          "data": {
            "text/plain": [
              "<torch._C.Generator at 0x7f9fe92e7b40>"
            ]
          },
          "metadata": {
            "tags": []
          },
          "execution_count": 2
        }
      ]
    },
    {
      "cell_type": "code",
      "metadata": {
        "id": "_zreuPpzUReF",
        "colab_type": "code",
        "colab": {}
      },
      "source": [
        "x = pd.read_csv('LSTM_10.csv')\n",
        "\n",
        "x = x.values    #x is numpy\n",
        "\n",
        "X_modified = []\n",
        "Y_modified = []\n",
        "\n",
        "t_modified = x[93:998,0]\n",
        "\n",
        "\n",
        "X_modified = x[93:998,1]\n",
        "Y_modified = x[94:999,1]\n",
        "\n",
        "train_size = 725\n",
        "test_size = len(X_modified)-train_size\n",
        "\n",
        "\n",
        "trainX, testX = np.array(X_modified[0:train_size]), np.array(X_modified[train_size:])\n",
        "trainY, testY = np.array(Y_modified[0:train_size]), np.array(Y_modified[train_size:])\n",
        "\n",
        "\n",
        "trainX = np.reshape(trainX, (-1, 1))\n",
        "trainY = np.reshape(trainY, (-1, 1))\n",
        "testX = np.reshape(testX, (-1, 1))\n",
        "testY = np.reshape(testY, (-1, 1))\n"
      ],
      "execution_count": null,
      "outputs": []
    },
    {
      "cell_type": "code",
      "metadata": {
        "id": "kUSp3jHdUWDq",
        "colab_type": "code",
        "colab": {}
      },
      "source": [
        "scaler = MinMaxScaler(feature_range=(-1, 1))\n",
        "trainX = scaler.fit_transform(trainX .reshape(-1, 1))\n",
        "testX = scaler.fit_transform(testX .reshape(-1, 1))\n",
        "trainY = scaler.fit_transform(trainY .reshape(-1, 1))\n",
        "\n",
        "\n",
        "\n",
        "\n",
        "trainX = torch.from_numpy(np.array(trainX)).type(torch.float32)\n",
        "testX = torch.from_numpy(np.array(testX)).type(torch.float32)\n",
        "trainY = torch.from_numpy(np.array(trainY)).type(torch.float32)\n",
        "testY = torch.from_numpy(np.array(testY)).type(torch.float32)\n",
        "\n"
      ],
      "execution_count": null,
      "outputs": []
    },
    {
      "cell_type": "code",
      "metadata": {
        "id": "lZ6xjnocDTGJ",
        "colab_type": "code",
        "colab": {
          "base_uri": "https://localhost:8080/",
          "height": 295
        },
        "outputId": "04721251-4e5f-44e7-f86b-f37db404de5c"
      },
      "source": [
        "# view data\n",
        "plt.figure(figsize=(10,4))\n",
        "plt.plot(t_modified, X_modified, color = \"orange\")\n",
        "#plt.scatter(X.data.numpy(), Y.data.numpy(), color = \"orange\")\n",
        "plt.title('Regression Analysis')\n",
        "plt.xlabel('Independent varible')\n",
        "plt.ylabel('Dependent varible')\n",
        "plt.show()"
      ],
      "execution_count": null,
      "outputs": [
        {
          "output_type": "display_data",
          "data": {
            "image/png": "[encoded data removed]",
            "text/plain": [
              "<Figure size 720x288 with 1 Axes>"
            ]
          },
          "metadata": {
            "tags": [],
            "needs_background": "light"
          }
        }
      ]
    },
    {
      "cell_type": "code",
      "metadata": {
        "id": "jJMe_vHEhcHi",
        "colab_type": "code",
        "colab": {}
      },
      "source": [
        "def create_inout_sequences(input_data, tw):\n",
        "    inout_seq = []\n",
        "    L = len(input_data)\n",
        "    for i in range(L-tw):\n",
        "        train_seq = input_data[i:i+tw]\n",
        "        train_label = input_data[i+tw:i+tw+1]\n",
        "        inout_seq.append((train_seq ,train_label))\n",
        "    return inout_seq"
      ],
      "execution_count": null,
      "outputs": []
    },
    {
      "cell_type": "code",
      "metadata": {
        "id": "s24mnXBpNwEq",
        "colab_type": "code",
        "colab": {}
      },
      "source": [
        "if torch.cuda.is_available():  \n",
        "  dev = \"cuda:0\" \n",
        "else:  \n",
        "  dev = \"cpu\"  \n",
        "device = torch.device(dev)  \n",
        "trainX = trainX.to(device)"
      ],
      "execution_count": null,
      "outputs": []
    },
    {
      "cell_type": "code",
      "metadata": {
        "id": "GlpYZyJLDgYB",
        "colab_type": "code",
        "colab": {}
      },
      "source": [
        "train_window = 200\n",
        "train_inout_seq = create_inout_sequences(trainX, train_window)\n"
      ],
      "execution_count": null,
      "outputs": []
    },
    {
      "cell_type": "code",
      "metadata": {
        "id": "M2QQ7tO5T3Cr",
        "colab_type": "code",
        "colab": {}
      },
      "source": [
        "class LSTM(nn.Module):\n",
        "    def __init__(self, input_size=1, hidden_layer_size=100, output_size=1):\n",
        "        super().__init__()\n",
        "        self.hidden_layer_size = hidden_layer_size\n",
        "\n",
        "        self.lstm = nn.LSTM(input_size, hidden_layer_size)\n",
        "\n",
        "        self.linear = nn.Linear(hidden_layer_size, output_size)\n",
        "\n",
        "        self.hidden_cell = (torch.zeros(1,1,self.hidden_layer_size).to(device),\n",
        "                            torch.zeros(1,1,self.hidden_layer_size).to(device))\n",
        "        \n",
        "\n",
        "    def forward(self, input_seq):\n",
        "        lstm_out, self.hidden_cell = self.lstm(input_seq.view(len(input_seq) ,1, -1), self.hidden_cell)\n",
        "\n",
        "\n",
        "        predictions = self.linear(lstm_out.view(len(input_seq), -1))\n",
        "        return predictions[-1]"
      ],
      "execution_count": null,
      "outputs": []
    },
    {
      "cell_type": "code",
      "metadata": {
        "id": "alMMEW7LiOQF",
        "colab_type": "code",
        "colab": {}
      },
      "source": [
        "model = LSTM()\n",
        "\n",
        "model = model.to(device)\n",
        "\n",
        "loss_function = nn.MSELoss()\n",
        "optimizer = torch.optim.Adam(model.parameters(), lr=0.06)"
      ],
      "execution_count": null,
      "outputs": []
    },
    {
      "cell_type": "code",
      "metadata": {
        "id": "ZfJLlNHIh4zi",
        "colab_type": "code",
        "colab": {
          "base_uri": "https://localhost:8080/",
          "height": 358
        },
        "outputId": "56de7541-daaa-4119-8d0d-6e792ed5dd1c"
      },
      "source": [
        "epochs = 100\n",
        "model.train()\n",
        "for i in range(epochs):\n",
        "    for seq, labels in train_inout_seq:\n",
        "        optimizer.zero_grad()\n",
        "        model.hidden_cell = (torch.zeros(1, 1, model.hidden_layer_size).to(device),\n",
        "                        torch.zeros(1, 1, model.hidden_layer_size).to(device))\n",
        "        \n",
        "        \n",
        "        y_pred = model(seq)\n",
        "        \n",
        "\n",
        "        single_loss = loss_function(y_pred, labels[-1])\n",
        "        single_loss.backward()\n",
        "        optimizer.step()\n",
        "        \n",
        "\n",
        "    if i%5 == 1:\n",
        "        print(f'epoch: {i:3} loss: {single_loss.item():10.8f}')\n",
        "\n",
        "print(f'epoch: {i:3} loss: {single_loss.item():10.10f}')"
      ],
      "execution_count": null,
      "outputs": [
        {
          "output_type": "stream",
          "text": [
            "epoch:   1 loss: 0.41273746\n",
            "epoch:   6 loss: 0.18796328\n",
            "epoch:  11 loss: 0.45552292\n",
            "epoch:  16 loss: 0.42196387\n",
            "epoch:  21 loss: 0.34972686\n",
            "epoch:  26 loss: 0.33653587\n",
            "epoch:  31 loss: 0.33510759\n",
            "epoch:  36 loss: 0.33497781\n",
            "epoch:  41 loss: 0.38446683\n",
            "epoch:  46 loss: 0.29784888\n",
            "epoch:  51 loss: 0.17836350\n",
            "epoch:  56 loss: 0.05218498\n",
            "epoch:  61 loss: 0.10255663\n",
            "epoch:  66 loss: 0.09939456\n",
            "epoch:  71 loss: 0.09909138\n",
            "epoch:  76 loss: 0.09835390\n",
            "epoch:  81 loss: 0.09937041\n",
            "epoch:  86 loss: 0.09939972\n",
            "epoch:  91 loss: 0.09887616\n",
            "epoch:  96 loss: 0.09928629\n",
            "epoch:  99 loss: 0.0993872285\n"
          ],
          "name": "stdout"
        }
      ]
    },
    {
      "cell_type": "code",
      "metadata": {
        "id": "fVoyxzR7N4s_",
        "colab_type": "code",
        "colab": {
          "base_uri": "https://localhost:8080/",
          "height": 82
        },
        "outputId": "1ca7a755-62b1-45f3-81d7-2d6ebfaa42bb"
      },
      "source": [
        "device = torch.device('cpu')  \n",
        "model.to(device)"
      ],
      "execution_count": null,
      "outputs": [
        {
          "output_type": "execute_result",
          "data": {
            "text/plain": [
              "LSTM(\n",
              "  (lstm): LSTM(1, 100)\n",
              "  (linear): Linear(in_features=100, out_features=1, bias=True)\n",
              ")"
            ]
          },
          "metadata": {
            "tags": []
          },
          "execution_count": 12
        }
      ]
    },
    {
      "cell_type": "code",
      "metadata": {
        "id": "jeOhy-aXN53H",
        "colab_type": "code",
        "colab": {}
      },
      "source": [
        "model.hidden_cell = list(model.hidden_cell)\n",
        "model.hidden_cell[0] = model.hidden_cell[0].to('cpu')\n",
        "model.hidden_cell[1] = model.hidden_cell[1].to('cpu')\n",
        "model.hidden_cell = tuple(model.hidden_cell)"
      ],
      "execution_count": null,
      "outputs": []
    },
    {
      "cell_type": "code",
      "metadata": {
        "id": "1XJYNazCKwTF",
        "colab_type": "code",
        "colab": {}
      },
      "source": [
        "model.eval()\n",
        "\n",
        "train_inputs = trainX[0:train_size].view(-1).cpu()\n",
        "train_inputs = train_inputs.detach().numpy().tolist()\n",
        "\n",
        "\n",
        "for i in range(train_size):\n",
        "    seq = torch.FloatTensor(train_inputs[-train_window:])\n",
        "    with torch.no_grad():\n",
        "        model.hidden = (torch.zeros(1, 1, model.hidden_layer_size).to('cpu'),\n",
        "                        torch.zeros(1, 1, model.hidden_layer_size).to('cpu'))\n",
        "        \n",
        "        train_inputs.append(model(seq).item())\n",
        "        \n"
      ],
      "execution_count": null,
      "outputs": []
    },
    {
      "cell_type": "code",
      "metadata": {
        "id": "ouOpBWgKO6gJ",
        "colab_type": "code",
        "colab": {}
      },
      "source": [
        "train_result = scaler.inverse_transform(np.array(train_inputs).reshape(-1, 1))\n",
        "\n"
      ],
      "execution_count": null,
      "outputs": []
    },
    {
      "cell_type": "code",
      "metadata": {
        "id": "e2hzaveuMPur",
        "colab_type": "code",
        "colab": {
          "base_uri": "https://localhost:8080/",
          "height": 265
        },
        "outputId": "7dc0c77a-9aaa-4bc2-bc3b-7a3ff45eff08"
      },
      "source": [
        "plt.figure(figsize=(10,4))\n",
        "\n",
        "#plt.xlim(0, 0.15)\n",
        "#plt.ylim(0.0002,0.0003)\n",
        "plt.plot(t_modified[0:train_size], train_result[0:train_size], color = \"red\")\n",
        "plt.plot(x[93:999,0], x[93:999,1], color = \"orange\")\n",
        "#plt.xlim(0.4, 0.5)\n",
        "#plt.title('Regression Analysis')\n",
        "#plt.xlabel('Independent varible')\n",
        "#plt.ylabel('Dependent varible')\n",
        "plt.show()\n"
      ],
      "execution_count": null,
      "outputs": [
        {
          "output_type": "display_data",
          "data": {
            "image/png": "[encoded data removed]",
            "text/plain": [
              "<Figure size 720x288 with 1 Axes>"
            ]
          },
          "metadata": {
            "tags": [],
            "needs_background": "light"
          }
        }
      ]
    },
    {
      "cell_type": "code",
      "metadata": {
        "id": "dzItjZ8iOWIn",
        "colab_type": "code",
        "colab": {}
      },
      "source": [
        "fut_pred = test_size\n",
        "\n",
        "test_inputs = trainX[-train_window:].view(-1).cpu()\n",
        "test_inputs = test_inputs.detach().numpy().tolist()\n"
      ],
      "execution_count": null,
      "outputs": []
    },
    {
      "cell_type": "code",
      "metadata": {
        "id": "xHiZ8X2LnpFR",
        "colab_type": "code",
        "colab": {}
      },
      "source": [
        "#Test Predction\n",
        "\n",
        "model.eval()\n",
        "\n",
        "for i in range(fut_pred):\n",
        "    seq = torch.FloatTensor(test_inputs[-train_window:])\n",
        "    with torch.no_grad():\n",
        "        model.hidden = (torch.zeros(1, 1, model.hidden_layer_size),\n",
        "                        torch.zeros(1, 1, model.hidden_layer_size))\n",
        "        test_inputs.append(model(seq).item())"
      ],
      "execution_count": null,
      "outputs": []
    },
    {
      "cell_type": "code",
      "metadata": {
        "id": "qQBOmQu-oFpS",
        "colab_type": "code",
        "colab": {}
      },
      "source": [
        "actual_predictions = scaler.inverse_transform(np.array(test_inputs).reshape(-1, 1))\n"
      ],
      "execution_count": null,
      "outputs": []
    },
    {
      "cell_type": "code",
      "metadata": {
        "id": "teH-0QB3cKZE",
        "colab_type": "code",
        "colab": {
          "base_uri": "https://localhost:8080/",
          "height": 281
        },
        "outputId": "f7741e67-8826-44ce-874f-ed52dc2027f4"
      },
      "source": [
        "plt.plot(actual_predictions)"
      ],
      "execution_count": null,
      "outputs": [
        {
          "output_type": "execute_result",
          "data": {
            "text/plain": [
              "[<matplotlib.lines.Line2D at 0x7f9f81d724e0>]"
            ]
          },
          "metadata": {
            "tags": []
          },
          "execution_count": 40
        },
        {
          "output_type": "display_data",
          "data": {
            "image/png": "[encoded data removed]",
            "text/plain": [
              "<Figure size 432x288 with 1 Axes>"
            ]
          },
          "metadata": {
            "tags": [],
            "needs_background": "light"
          }
        }
      ]
    },
    {
      "cell_type": "code",
      "metadata": {
        "id": "LSkyW535g4_O",
        "colab_type": "code",
        "colab": {
          "base_uri": "https://localhost:8080/",
          "height": 265
        },
        "outputId": "77b1e7b8-64f6-4059-c599-047f6a820159"
      },
      "source": [
        "plt.figure(figsize=(10,4))\n",
        "\n",
        "#plt.plot(actual_predictions)\n",
        "plt.plot(t_modified[-180:], actual_predictions[:test_size], color = \"red\")\n",
        "plt.plot(x[93:999,0], x[93:999,1], color = \"orange\")\n",
        "plt.xlim(0.4, 0.5)\n",
        "#plt.title('Regression Analysis')\n",
        "#plt.xlabel('Independent varible')\n",
        "#plt.ylabel('Dependent varible')\n",
        "plt.show()\n",
        "\n",
        "\n"
      ],
      "execution_count": null,
      "outputs": [
        {
          "output_type": "display_data",
          "data": {
            "image/png": "[encoded data removed]",
            "text/plain": [
              "<Figure size 720x288 with 1 Axes>"
            ]
          },
          "metadata": {
            "tags": [],
            "needs_background": "light"
          }
        }
      ]
    }
  ]
}
