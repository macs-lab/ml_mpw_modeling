{
  "nbformat": 4,
  "nbformat_minor": 0,
  "metadata": {
    "colab": {
      "name": "DNN_20",
      "provenance": [],
      "collapsed_sections": [],
      "authorship_tag": "ABX9TyPCuIAUJB7hFZCm1Lkm/JrS",
      "include_colab_link": true
    },
    "kernelspec": {
      "name": "python3",
      "display_name": "Python 3"
    },
    "accelerator": "GPU"
  },
  "cells": [
    {
      "cell_type": "markdown",
      "metadata": {
        "id": "view-in-github",
        "colab_type": "text"
      },
      "source": [
        "<a href=\"https://colab.research.google.com/github/Shim-John/ml_mpw_modeling/blob/master/LSTM/LSTM_20_Tracks.ipynb\" target=\"_parent\"><img src=\"https://colab.research.google.com/assets/colab-badge.svg\" alt=\"Open In Colab\"/></a>"
      ]
    },
    {
      "cell_type": "code",
      "metadata": {
        "id": "9uofW8PuPGQB",
        "colab_type": "code",
        "colab": {}
      },
      "source": [
        "from pydrive.auth import GoogleAuth\n",
        "from pydrive.drive import GoogleDrive\n",
        "from google.colab import auth\n",
        "from oauth2client.client import GoogleCredentials\n",
        "\n",
        "auth.authenticate_user()\n",
        "gauth = GoogleAuth()\n",
        "gauth.credentials = GoogleCredentials.get_application_default()\n",
        "drive = GoogleDrive(gauth)\n",
        "\n",
        "downloaded = drive.CreateFile({'id': '1JFULutBLUSm0cXh5veNU5hWjwKRqaODi'})   # replace the id with id of file you want to access\n",
        "downloaded.GetContentFile('DNN_20.csv') \n"
      ],
      "execution_count": 1,
      "outputs": []
    },
    {
      "cell_type": "code",
      "metadata": {
        "id": "tsyVijhnR13W",
        "colab_type": "code",
        "colab": {
          "base_uri": "https://localhost:8080/",
          "height": 33
        },
        "outputId": "14383cc3-522c-455b-cd75-786d2d3c7f77"
      },
      "source": [
        "import torch, pandas as pd\n",
        "import torch.nn as nn \n",
        "import torch.nn.functional as F \n",
        "import matplotlib.pyplot as plt\n",
        "%matplotlib inline\n",
        "\n",
        "from torch.autograd import Variable\n",
        "import torch.utils.data as Data\n",
        "import numpy as np, imageio\n",
        "from sklearn.preprocessing import MinMaxScaler\n",
        "\n",
        "device = torch.device('cuda' if torch.cuda.is_available() else 'cpu')\n",
        "\n",
        "torch.manual_seed(1)    # reproducible\n"
      ],
      "execution_count": 2,
      "outputs": [
        {
          "output_type": "execute_result",
          "data": {
            "text/plain": [
              "<torch._C.Generator at 0x7f626a9abb40>"
            ]
          },
          "metadata": {
            "tags": []
          },
          "execution_count": 2
        }
      ]
    },
    {
      "cell_type": "code",
      "metadata": {
        "id": "FKaK4DShc4pa",
        "colab_type": "code",
        "colab": {}
      },
      "source": [
        "x = pd.read_csv('DNN_20.csv')\n",
        "\n",
        "x = x.values    #x is numpy\n",
        "\n",
        "X_modified = []\n",
        "Y_modified = []\n",
        "\n",
        "t_modified = x[93:,0]\n",
        "\n",
        "\n",
        "X_modified = x[93:,1]\n",
        "Y_modified = x[94:,1]\n",
        "\n",
        "train_size = 1500\n",
        "test_size = len(X_modified)-train_size\n",
        "\n",
        "\n",
        "trainX, testX = np.array(X_modified[0:train_size]), np.array(X_modified[train_size:])\n",
        "trainY, testY = np.array(Y_modified[0:train_size]), np.array(Y_modified[train_size:])\n",
        "\n",
        "\n",
        "trainX = np.reshape(trainX, (-1, 1))\n",
        "trainY = np.reshape(trainY, (-1, 1))\n",
        "testX = np.reshape(testX, (-1, 1))\n",
        "testY = np.reshape(testY, (-1, 1))\n"
      ],
      "execution_count": 3,
      "outputs": []
    },
    {
      "cell_type": "code",
      "metadata": {
        "id": "O7KVU2YJc4rw",
        "colab_type": "code",
        "colab": {}
      },
      "source": [
        "scaler = MinMaxScaler(feature_range=(-1, 1))\n",
        "trainX = scaler.fit_transform(trainX .reshape(-1, 1))\n",
        "testX = scaler.fit_transform(testX .reshape(-1, 1))\n",
        "trainY = scaler.fit_transform(trainY .reshape(-1, 1))\n",
        "\n",
        "\n",
        "\n",
        "\n",
        "trainX = torch.from_numpy(np.array(trainX)).type(torch.float32)\n",
        "testX = torch.from_numpy(np.array(testX)).type(torch.float32)\n",
        "trainY = torch.from_numpy(np.array(trainY)).type(torch.float32)\n",
        "testY = torch.from_numpy(np.array(testY)).type(torch.float32)\n",
        "\n"
      ],
      "execution_count": 4,
      "outputs": []
    },
    {
      "cell_type": "code",
      "metadata": {
        "id": "31dMxtQ-c4uM",
        "colab_type": "code",
        "colab": {
          "base_uri": "https://localhost:8080/",
          "height": 295
        },
        "outputId": "23710734-048b-4b72-9e5f-e1f629541863"
      },
      "source": [
        "# view data\n",
        "plt.figure(figsize=(10,4))\n",
        "plt.plot(t_modified, X_modified, color = \"orange\")\n",
        "#plt.scatter(X.data.numpy(), Y.data.numpy(), color = \"orange\")\n",
        "plt.title('Regression Analysis')\n",
        "plt.xlabel('Independent varible')\n",
        "plt.ylabel('Dependent varible')\n",
        "plt.show()"
      ],
      "execution_count": 5,
      "outputs": [
        {
          "output_type": "display_data",
          "data": {
            "image/png": "[encoded data removed]",
            "text/plain": [
              "<Figure size 720x288 with 1 Axes>"
            ]
          },
          "metadata": {
            "tags": [],
            "needs_background": "light"
          }
        }
      ]
    },
    {
      "cell_type": "code",
      "metadata": {
        "id": "sTjWrLtzc4wn",
        "colab_type": "code",
        "colab": {}
      },
      "source": [
        "def create_inout_sequences(input_data, tw):\n",
        "    inout_seq = []\n",
        "    L = len(input_data)\n",
        "    for i in range(L-tw):\n",
        "        train_seq = input_data[i:i+tw]\n",
        "        train_label = input_data[i+tw:i+tw+1]\n",
        "        inout_seq.append((train_seq ,train_label))\n",
        "    return inout_seq"
      ],
      "execution_count": 6,
      "outputs": []
    },
    {
      "cell_type": "code",
      "metadata": {
        "id": "eC0jWOWkc4zT",
        "colab_type": "code",
        "colab": {}
      },
      "source": [
        "if torch.cuda.is_available():  \n",
        "  dev = \"cuda:0\" \n",
        "else:  \n",
        "  dev = \"cpu\"  \n",
        "device = torch.device(dev)  \n",
        "trainX = trainX.to(device)"
      ],
      "execution_count": 7,
      "outputs": []
    },
    {
      "cell_type": "code",
      "metadata": {
        "id": "p4sgM72hc41a",
        "colab_type": "code",
        "colab": {}
      },
      "source": [
        "train_window = 200\n",
        "train_inout_seq = create_inout_sequences(trainX, train_window)\n"
      ],
      "execution_count": 8,
      "outputs": []
    },
    {
      "cell_type": "code",
      "metadata": {
        "id": "5j8MldTfqbvm",
        "colab_type": "code",
        "colab": {}
      },
      "source": [
        "class LSTM(nn.Module):\n",
        "    def __init__(self, input_size=1, hidden_layer_size=100, output_size=1):\n",
        "        super().__init__()\n",
        "        self.hidden_layer_size = hidden_layer_size\n",
        "\n",
        "        self.lstm = nn.LSTM(input_size, hidden_layer_size)\n",
        "\n",
        "        self.linear = nn.Linear(hidden_layer_size, output_size)\n",
        "\n",
        "        self.hidden_cell = (torch.zeros(1,1,self.hidden_layer_size).to(device),\n",
        "                            torch.zeros(1,1,self.hidden_layer_size).to(device))\n",
        "        \n",
        "\n",
        "    def forward(self, input_seq):\n",
        "        lstm_out, self.hidden_cell = self.lstm(input_seq.view(len(input_seq) ,1, -1), self.hidden_cell)\n",
        "\n",
        "\n",
        "        predictions = self.linear(lstm_out.view(len(input_seq), -1))\n",
        "        return predictions[-1]"
      ],
      "execution_count": 9,
      "outputs": []
    },
    {
      "cell_type": "code",
      "metadata": {
        "id": "oiBYl5nkqbx2",
        "colab_type": "code",
        "colab": {}
      },
      "source": [
        "model = LSTM()\n",
        "model.to(device)\n",
        "\n",
        "loss_function = nn.MSELoss()\n",
        "optimizer = torch.optim.Adam(model.parameters(), lr=0.06)"
      ],
      "execution_count": 10,
      "outputs": []
    },
    {
      "cell_type": "code",
      "metadata": {
        "id": "paZVE1Q4qbz9",
        "colab_type": "code",
        "colab": {
          "base_uri": "https://localhost:8080/",
          "height": 261
        },
        "outputId": "1f8d80bd-4407-4470-f980-9243d25884fa"
      },
      "source": [
        "epochs = 70\n",
        "model.train()\n",
        "for i in range(epochs):\n",
        "    for seq, labels in train_inout_seq:\n",
        "        optimizer.zero_grad()\n",
        "        model.hidden_cell = (torch.zeros(1, 1, model.hidden_layer_size).to(device),\n",
        "                        torch.zeros(1, 1, model.hidden_layer_size).to(device))\n",
        "        \n",
        "        \n",
        "        y_pred = model(seq)\n",
        "        \n",
        "\n",
        "        single_loss = loss_function(y_pred, labels[-1])\n",
        "        single_loss.backward()\n",
        "        optimizer.step()\n",
        "        \n",
        "\n",
        "    if i%5 == 1:\n",
        "        print(f'epoch: {i:3} loss: {single_loss.item():10.8f}')\n",
        "\n",
        "print(f'epoch: {i:3} loss: {single_loss.item():10.10f}')"
      ],
      "execution_count": 11,
      "outputs": [
        {
          "output_type": "stream",
          "text": [
            "epoch:   1 loss: 0.00017612\n",
            "epoch:   6 loss: 0.03250322\n",
            "epoch:  11 loss: 0.01359272\n",
            "epoch:  16 loss: 0.03407234\n",
            "epoch:  21 loss: 0.80223167\n",
            "epoch:  26 loss: 0.01148527\n",
            "epoch:  31 loss: 0.09312528\n",
            "epoch:  36 loss: 0.05907231\n",
            "epoch:  41 loss: 0.76143193\n",
            "epoch:  46 loss: 0.00057107\n",
            "epoch:  51 loss: 0.10948561\n",
            "epoch:  56 loss: 0.04591669\n",
            "epoch:  61 loss: 0.00758618\n",
            "epoch:  66 loss: 0.04900137\n",
            "epoch:  69 loss: 0.0075062523\n"
          ],
          "name": "stdout"
        }
      ]
    },
    {
      "cell_type": "code",
      "metadata": {
        "id": "dte3HIC-JISH",
        "colab_type": "code",
        "colab": {
          "base_uri": "https://localhost:8080/",
          "height": 82
        },
        "outputId": "09227cd1-4e15-461d-b22b-c7454a2d1c20"
      },
      "source": [
        "device = torch.device('cpu')  \n",
        "model.to(device)"
      ],
      "execution_count": 12,
      "outputs": [
        {
          "output_type": "execute_result",
          "data": {
            "text/plain": [
              "LSTM(\n",
              "  (lstm): LSTM(1, 100)\n",
              "  (linear): Linear(in_features=100, out_features=1, bias=True)\n",
              ")"
            ]
          },
          "metadata": {
            "tags": []
          },
          "execution_count": 12
        }
      ]
    },
    {
      "cell_type": "code",
      "metadata": {
        "id": "9zOnJtMNMf6S",
        "colab_type": "code",
        "colab": {}
      },
      "source": [
        "model.hidden_cell = list(model.hidden_cell)\n",
        "model.hidden_cell[0] = model.hidden_cell[0].to('cpu')\n",
        "model.hidden_cell[1] = model.hidden_cell[1].to('cpu')\n",
        "model.hidden_cell = tuple(model.hidden_cell)"
      ],
      "execution_count": 13,
      "outputs": []
    },
    {
      "cell_type": "code",
      "metadata": {
        "id": "gqSTVUOBqb4U",
        "colab_type": "code",
        "colab": {}
      },
      "source": [
        "model.eval()\n",
        "\n",
        "train_inputs = trainX[0:train_size].view(-1).cpu()\n",
        "train_inputs = train_inputs.detach().numpy().tolist()\n",
        "\n",
        "\n",
        "for i in range(train_size):\n",
        "    seq = torch.FloatTensor(train_inputs[-train_window:])\n",
        "    with torch.no_grad():\n",
        "        model.hidden = (torch.zeros(1, 1, model.hidden_layer_size).to('cpu'),\n",
        "                        torch.zeros(1, 1, model.hidden_layer_size).to('cpu'))\n",
        "        \n",
        "        train_inputs.append(model(seq).item())\n",
        "        \n"
      ],
      "execution_count": 14,
      "outputs": []
    },
    {
      "cell_type": "code",
      "metadata": {
        "id": "3vMfoKV_qb6e",
        "colab_type": "code",
        "colab": {}
      },
      "source": [
        "train_result = scaler.inverse_transform(np.array(train_inputs).reshape(-1, 1))\n",
        "\n"
      ],
      "execution_count": 15,
      "outputs": []
    },
    {
      "cell_type": "code",
      "metadata": {
        "id": "Vkhze5lLc43s",
        "colab_type": "code",
        "colab": {
          "base_uri": "https://localhost:8080/",
          "height": 265
        },
        "outputId": "e3c45ae0-3391-4794-a5a7-db31bf2cb190"
      },
      "source": [
        "plt.figure(figsize=(10,4))\n",
        "\n",
        "#plt.xlim(0, 0.15)\n",
        "#plt.ylim(0.0002,0.0003)\n",
        "plt.plot(t_modified[0:train_size], train_result[0:train_size], color = \"red\")\n",
        "#plt.plot(t_modified, X_modified, color = \"orange\")\n",
        "#plt.xlim(0.4, 0.5)\n",
        "#plt.title('Regression Analysis')\n",
        "#plt.xlabel('Independent varible')\n",
        "#plt.ylabel('Dependent varible')\n",
        "plt.show()\n"
      ],
      "execution_count": 34,
      "outputs": [
        {
          "output_type": "display_data",
          "data": {
            "image/png": "[encoded data removed]",
            "text/plain": [
              "<Figure size 720x288 with 1 Axes>"
            ]
          },
          "metadata": {
            "tags": [],
            "needs_background": "light"
          }
        }
      ]
    },
    {
      "cell_type": "code",
      "metadata": {
        "id": "gSQusiKIqjL3",
        "colab_type": "code",
        "colab": {}
      },
      "source": [
        "fut_pred = test_size\n",
        "\n",
        "test_inputs = trainX[-test_size:].view(-1).cpu()\n",
        "test_inputs = test_inputs.detach().numpy().tolist()\n"
      ],
      "execution_count": 19,
      "outputs": []
    },
    {
      "cell_type": "code",
      "metadata": {
        "id": "ILVDbxRnqjON",
        "colab_type": "code",
        "colab": {}
      },
      "source": [
        "#Test Predction\n",
        "\n",
        "model.eval()\n",
        "\n",
        "for i in range(fut_pred):\n",
        "    seq = torch.FloatTensor(test_inputs[-train_window:])\n",
        "    with torch.no_grad():\n",
        "        model.hidden = (torch.zeros(1, 1, model.hidden_layer_size),\n",
        "                        torch.zeros(1, 1, model.hidden_layer_size))\n",
        "        test_inputs.append(model(seq).item())"
      ],
      "execution_count": 20,
      "outputs": []
    },
    {
      "cell_type": "code",
      "metadata": {
        "id": "-N4HHxGjqjQX",
        "colab_type": "code",
        "colab": {}
      },
      "source": [
        "actual_predictions = scaler.inverse_transform(np.array(test_inputs).reshape(-1, 1))"
      ],
      "execution_count": 21,
      "outputs": []
    },
    {
      "cell_type": "code",
      "metadata": {
        "id": "YyaJHoGqSyI6",
        "colab_type": "code",
        "colab": {}
      },
      "source": [
        "print"
      ],
      "execution_count": null,
      "outputs": []
    },
    {
      "cell_type": "code",
      "metadata": {
        "id": "3mBr2NFnq0JP",
        "colab_type": "code",
        "colab": {
          "base_uri": "https://localhost:8080/",
          "height": 265
        },
        "outputId": "13efb291-4187-474b-b279-f02b6a8130af"
      },
      "source": [
        "plt.figure(figsize=(10,4))\n",
        "\n",
        "#plt.plot(actual_predictions)\n",
        "plt.plot(t_modified[0:train_size], train_result[0:train_size], color = \"red\")\n",
        "plt.plot(t_modified[-test_size:], actual_predictions[:test_size], color = \"red\")\n",
        "plt.plot(t_modified, X_modified, color = \"orange\")\n",
        "#plt.xlim(0, 0.3)\n",
        "plt.xlim(0.75, 1)\n",
        "#plt.title('Regression Analysis')\n",
        "#plt.xlabel('Independent varible')\n",
        "#plt.ylabel('Dependent varible')\n",
        "plt.show()\n",
        "\n",
        "\n"
      ],
      "execution_count": 40,
      "outputs": [
        {
          "output_type": "display_data",
          "data": {
            "image/png": "[encoded data removed]",
            "text/plain": [
              "<Figure size 720x288 with 1 Axes>"
            ]
          },
          "metadata": {
            "tags": [],
            "needs_background": "light"
          }
        }
      ]
    }
  ]
}