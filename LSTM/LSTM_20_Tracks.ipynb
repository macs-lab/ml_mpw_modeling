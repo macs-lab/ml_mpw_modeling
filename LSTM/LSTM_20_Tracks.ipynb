{
  "nbformat": 4,
  "nbformat_minor": 0,
  "metadata": {
    "colab": {
      "name": "LSTM 20 Tracks",
      "provenance": [],
      "collapsed_sections": [],
      "authorship_tag": "ABX9TyMmc24Be1KN7ARAxbd+yGlL",
      "include_colab_link": true
    },
    "kernelspec": {
      "name": "python3",
      "display_name": "Python 3"
    },
    "accelerator": "GPU"
  },
  "cells": [
    {
      "cell_type": "markdown",
      "metadata": {
        "id": "view-in-github",
        "colab_type": "text"
      },
      "source": [
        "<a href=\"https://colab.research.google.com/github/Shim-John/ml_mpw_modeling/blob/master/LSTM/LSTM_20_Tracks.ipynb\" target=\"_parent\"><img src=\"https://colab.research.google.com/assets/colab-badge.svg\" alt=\"Open In Colab\"/></a>"
      ]
    },
    {
      "cell_type": "code",
      "metadata": {
        "id": "9uofW8PuPGQB",
        "colab_type": "code",
        "colab": {}
      },
      "source": [
        "from pydrive.auth import GoogleAuth\n",
        "from pydrive.drive import GoogleDrive\n",
        "from google.colab import auth\n",
        "from oauth2client.client import GoogleCredentials\n",
        "\n",
        "auth.authenticate_user()\n",
        "gauth = GoogleAuth()\n",
        "gauth.credentials = GoogleCredentials.get_application_default()\n",
        "drive = GoogleDrive(gauth)\n",
        "\n",
        "downloaded = drive.CreateFile({'id': '1JFULutBLUSm0cXh5veNU5hWjwKRqaODi'})   # replace the id with id of file you want to access\n",
        "downloaded.GetContentFile('DNN_20.csv') \n"
      ],
      "execution_count": null,
      "outputs": []
    },
    {
      "cell_type": "code",
      "metadata": {
        "id": "tsyVijhnR13W",
        "colab_type": "code",
        "colab": {
          "base_uri": "https://localhost:8080/",
          "height": 33
        },
        "outputId": "4b0910ea-8a74-4c7d-ed73-d7360f3b7acb"
      },
      "source": [
        "import torch, pandas as pd\n",
        "import torch.nn as nn \n",
        "import torch.nn.functional as F \n",
        "import matplotlib.pyplot as plt\n",
        "%matplotlib inline\n",
        "\n",
        "from torch.autograd import Variable\n",
        "import torch.utils.data as Data\n",
        "import numpy as np, imageio\n",
        "from sklearn.preprocessing import MinMaxScaler\n",
        "\n",
        "device = torch.device('cuda' if torch.cuda.is_available() else 'cpu')\n",
        "\n",
        "torch.manual_seed(1)    # reproducible\n"
      ],
      "execution_count": null,
      "outputs": [
        {
          "output_type": "execute_result",
          "data": {
            "text/plain": [
              "<torch._C.Generator at 0x7f1904eb3b40>"
            ]
          },
          "metadata": {
            "tags": []
          },
          "execution_count": 2
        }
      ]
    },
    {
      "cell_type": "code",
      "metadata": {
        "id": "FKaK4DShc4pa",
        "colab_type": "code",
        "colab": {}
      },
      "source": [
        "x = pd.read_csv('LSTM_20.csv')\n",
        "\n",
        "x = x.values    #x is numpy\n",
        "\n",
        "X_modified = []\n",
        "Y_modified = []\n",
        "\n",
        "t_modified = x[93:,0]\n",
        "\n",
        "\n",
        "X_modified = x[93:,1]\n",
        "Y_modified = x[94:,1]\n",
        "\n",
        "train_size = 1500\n",
        "test_size = len(X_modified)-train_size\n",
        "\n",
        "\n",
        "trainX, testX = np.array(X_modified[0:train_size]), np.array(X_modified[train_size:])\n",
        "trainY, testY = np.array(Y_modified[0:train_size]), np.array(Y_modified[train_size:])\n",
        "\n",
        "\n",
        "trainX = np.reshape(trainX, (-1, 1))\n",
        "trainY = np.reshape(trainY, (-1, 1))\n",
        "testX = np.reshape(testX, (-1, 1))\n",
        "testY = np.reshape(testY, (-1, 1))\n"
      ],
      "execution_count": null,
      "outputs": []
    },
    {
      "cell_type": "code",
      "metadata": {
        "id": "O7KVU2YJc4rw",
        "colab_type": "code",
        "colab": {}
      },
      "source": [
        "scaler = MinMaxScaler(feature_range=(-1, 1))\n",
        "trainX = scaler.fit_transform(trainX .reshape(-1, 1))\n",
        "testX = scaler.fit_transform(testX .reshape(-1, 1))\n",
        "trainY = scaler.fit_transform(trainY .reshape(-1, 1))\n",
        "\n",
        "\n",
        "\n",
        "\n",
        "trainX = torch.from_numpy(np.array(trainX)).type(torch.float32)\n",
        "testX = torch.from_numpy(np.array(testX)).type(torch.float32)\n",
        "trainY = torch.from_numpy(np.array(trainY)).type(torch.float32)\n",
        "testY = torch.from_numpy(np.array(testY)).type(torch.float32)\n",
        "\n"
      ],
      "execution_count": null,
      "outputs": []
    },
    {
      "cell_type": "code",
      "metadata": {
        "id": "31dMxtQ-c4uM",
        "colab_type": "code",
        "colab": {
          "base_uri": "https://localhost:8080/",
          "height": 295
        },
        "outputId": "124197fd-9916-4fb5-c8e2-f6777d91a88c"
      },
      "source": [
        "# view data\n",
        "plt.figure(figsize=(10,4))\n",
        "plt.plot(t_modified, X_modified, color = \"orange\")\n",
        "#plt.scatter(X.data.numpy(), Y.data.numpy(), color = \"orange\")\n",
        "plt.title('Regression Analysis')\n",
        "plt.xlabel('Independent varible')\n",
        "plt.ylabel('Dependent varible')\n",
        "plt.show()"
      ],
      "execution_count": null,
      "outputs": [
        {
          "output_type": "display_data",
          "data": {
            "image/png": "[encoded data removed]",
            "text/plain": [
              "<Figure size 720x288 with 1 Axes>"
            ]
          },
          "metadata": {
            "tags": [],
            "needs_background": "light"
          }
        }
      ]
    },
    {
      "cell_type": "code",
      "metadata": {
        "id": "sTjWrLtzc4wn",
        "colab_type": "code",
        "colab": {}
      },
      "source": [
        "def create_inout_sequences(input_data, tw):\n",
        "    inout_seq = []\n",
        "    L = len(input_data)\n",
        "    for i in range(L-tw):\n",
        "        train_seq = input_data[i:i+tw]\n",
        "        train_label = input_data[i+tw:i+tw+1]\n",
        "        inout_seq.append((train_seq ,train_label))\n",
        "    return inout_seq"
      ],
      "execution_count": null,
      "outputs": []
    },
    {
      "cell_type": "code",
      "metadata": {
        "id": "eC0jWOWkc4zT",
        "colab_type": "code",
        "colab": {}
      },
      "source": [
        "if torch.cuda.is_available():  \n",
        "  dev = \"cuda:0\" \n",
        "else:  \n",
        "  dev = \"cpu\"  \n",
        "device = torch.device(dev)  \n",
        "trainX = trainX.to(device)"
      ],
      "execution_count": null,
      "outputs": []
    },
    {
      "cell_type": "code",
      "metadata": {
        "id": "p4sgM72hc41a",
        "colab_type": "code",
        "colab": {}
      },
      "source": [
        "train_window = 200\n",
        "train_inout_seq = create_inout_sequences(trainX, train_window)\n"
      ],
      "execution_count": null,
      "outputs": []
    },
    {
      "cell_type": "code",
      "metadata": {
        "id": "5j8MldTfqbvm",
        "colab_type": "code",
        "colab": {}
      },
      "source": [
        "class LSTM(nn.Module):\n",
        "    def __init__(self, input_size=1, hidden_layer_size=100, output_size=1):\n",
        "        super().__init__()\n",
        "        self.hidden_layer_size = hidden_layer_size\n",
        "\n",
        "        self.lstm = nn.LSTM(input_size, hidden_layer_size)\n",
        "\n",
        "        self.linear = nn.Linear(hidden_layer_size, output_size)\n",
        "\n",
        "        self.hidden_cell = (torch.zeros(1,1,self.hidden_layer_size).to(device),\n",
        "                            torch.zeros(1,1,self.hidden_layer_size).to(device))\n",
        "        \n",
        "\n",
        "    def forward(self, input_seq):\n",
        "        lstm_out, self.hidden_cell = self.lstm(input_seq.view(len(input_seq) ,1, -1), self.hidden_cell)\n",
        "\n",
        "\n",
        "        predictions = self.linear(lstm_out.view(len(input_seq), -1))\n",
        "        return predictions[-1]"
      ],
      "execution_count": null,
      "outputs": []
    },
    {
      "cell_type": "code",
      "metadata": {
        "id": "oiBYl5nkqbx2",
        "colab_type": "code",
        "colab": {}
      },
      "source": [
        "model = LSTM()\n",
        "model.to(device)\n",
        "\n",
        "loss_function = nn.MSELoss()\n",
        "optimizer = torch.optim.Adam(model.parameters(), lr=0.06)"
      ],
      "execution_count": null,
      "outputs": []
    },
    {
      "cell_type": "code",
      "metadata": {
        "id": "paZVE1Q4qbz9",
        "colab_type": "code",
        "colab": {
          "base_uri": "https://localhost:8080/",
          "height": 521
        },
        "outputId": "2998e85e-6059-4b58-c0fb-b86d39465eed"
      },
      "source": [
        "epochs = 150\n",
        "model.train()\n",
        "for i in range(epochs):\n",
        "    for seq, labels in train_inout_seq:\n",
        "        optimizer.zero_grad()\n",
        "        model.hidden_cell = (torch.zeros(1, 1, model.hidden_layer_size).to(device),\n",
        "                        torch.zeros(1, 1, model.hidden_layer_size).to(device))\n",
        "        \n",
        "        \n",
        "        y_pred = model(seq)\n",
        "        \n",
        "\n",
        "        single_loss = loss_function(y_pred, labels[-1])\n",
        "        single_loss.backward()\n",
        "        optimizer.step()\n",
        "        \n",
        "\n",
        "    if i%5 == 1:\n",
        "        print(f'epoch: {i:3} loss: {single_loss.item():10.8f}')\n",
        "\n",
        "print(f'epoch: {i:3} loss: {single_loss.item():10.10f}')"
      ],
      "execution_count": null,
      "outputs": [
        {
          "output_type": "stream",
          "text": [
            "epoch:   1 loss: 0.00224259\n",
            "epoch:   6 loss: 0.00070198\n",
            "epoch:  11 loss: 0.00210957\n",
            "epoch:  16 loss: 0.00307761\n",
            "epoch:  21 loss: 0.00066516\n",
            "epoch:  26 loss: 0.00217257\n",
            "epoch:  31 loss: 0.00456807\n",
            "epoch:  36 loss: 0.00373050\n",
            "epoch:  41 loss: 0.00337718\n",
            "epoch:  46 loss: 0.00313881\n",
            "epoch:  51 loss: 0.00299013\n",
            "epoch:  56 loss: 0.00317435\n",
            "epoch:  61 loss: 0.00310306\n",
            "epoch:  66 loss: 0.00346671\n",
            "epoch:  71 loss: 0.00259094\n",
            "epoch:  76 loss: 0.00121697\n",
            "epoch:  81 loss: 0.00355387\n",
            "epoch:  86 loss: 0.00121643\n",
            "epoch:  91 loss: 0.00093464\n",
            "epoch:  96 loss: 0.00141641\n",
            "epoch: 101 loss: 0.00108525\n",
            "epoch: 106 loss: 0.00157521\n",
            "epoch: 111 loss: 0.00437108\n",
            "epoch: 116 loss: 0.00318367\n",
            "epoch: 121 loss: 0.00306791\n",
            "epoch: 126 loss: 0.00439670\n",
            "epoch: 131 loss: 0.00409200\n",
            "epoch: 136 loss: 0.00470500\n",
            "epoch: 141 loss: 0.00339539\n",
            "epoch: 146 loss: 0.00124653\n",
            "epoch: 149 loss: 0.0040227389\n"
          ],
          "name": "stdout"
        }
      ]
    },
    {
      "cell_type": "code",
      "metadata": {
        "id": "dte3HIC-JISH",
        "colab_type": "code",
        "colab": {
          "base_uri": "https://localhost:8080/",
          "height": 82
        },
        "outputId": "14e7ba56-be6c-498a-a8e2-77c84c404131"
      },
      "source": [
        "device = torch.device('cpu')  \n",
        "model.to(device)"
      ],
      "execution_count": null,
      "outputs": [
        {
          "output_type": "execute_result",
          "data": {
            "text/plain": [
              "LSTM(\n",
              "  (lstm): LSTM(1, 100)\n",
              "  (linear): Linear(in_features=100, out_features=1, bias=True)\n",
              ")"
            ]
          },
          "metadata": {
            "tags": []
          },
          "execution_count": 12
        }
      ]
    },
    {
      "cell_type": "code",
      "metadata": {
        "id": "9zOnJtMNMf6S",
        "colab_type": "code",
        "colab": {}
      },
      "source": [
        "model.hidden_cell = list(model.hidden_cell)\n",
        "model.hidden_cell[0] = model.hidden_cell[0].to('cpu')\n",
        "model.hidden_cell[1] = model.hidden_cell[1].to('cpu')\n",
        "model.hidden_cell = tuple(model.hidden_cell)"
      ],
      "execution_count": null,
      "outputs": []
    },
    {
      "cell_type": "code",
      "metadata": {
        "id": "gqSTVUOBqb4U",
        "colab_type": "code",
        "colab": {}
      },
      "source": [
        "model.eval()\n",
        "\n",
        "train_inputs = trainX[0:train_size].view(-1).cpu()\n",
        "train_inputs = train_inputs.detach().numpy().tolist()\n",
        "\n",
        "\n",
        "for i in range(train_size):\n",
        "    seq = torch.FloatTensor(train_inputs[-train_window:])\n",
        "    with torch.no_grad():\n",
        "        model.hidden = (torch.zeros(1, 1, model.hidden_layer_size).to('cpu'),\n",
        "                        torch.zeros(1, 1, model.hidden_layer_size).to('cpu'))\n",
        "        \n",
        "        train_inputs.append(model(seq).item())\n",
        "        \n"
      ],
      "execution_count": null,
      "outputs": []
    },
    {
      "cell_type": "code",
      "metadata": {
        "id": "3vMfoKV_qb6e",
        "colab_type": "code",
        "colab": {}
      },
      "source": [
        "train_result = scaler.inverse_transform(np.array(train_inputs).reshape(-1, 1))\n",
        "\n"
      ],
      "execution_count": null,
      "outputs": []
    },
    {
      "cell_type": "code",
      "metadata": {
        "id": "Vkhze5lLc43s",
        "colab_type": "code",
        "colab": {
          "base_uri": "https://localhost:8080/",
          "height": 265
        },
        "outputId": "faf6fda1-2c54-4244-c0f1-c494fbbd5354"
      },
      "source": [
        "plt.figure(figsize=(10,4))\n",
        "\n",
        "#plt.xlim(0, 0.15)\n",
        "#plt.ylim(0.0002,0.0003)\n",
        "plt.plot(t_modified[0:train_size], train_result[0:train_size], color = \"red\")\n",
        "#plt.plot(t_modified, X_modified, color = \"orange\")\n",
        "#plt.xlim(0.4, 0.5)\n",
        "#plt.title('Regression Analysis')\n",
        "#plt.xlabel('Independent varible')\n",
        "#plt.ylabel('Dependent varible')\n",
        "plt.show()\n"
      ],
      "execution_count": null,
      "outputs": [
        {
          "output_type": "display_data",
          "data": {
            "image/png": "[encoded data removed]",
            "text/plain": [
              "<Figure size 720x288 with 1 Axes>"
            ]
          },
          "metadata": {
            "tags": [],
            "needs_background": "light"
          }
        }
      ]
    },
    {
      "cell_type": "code",
      "metadata": {
        "id": "gSQusiKIqjL3",
        "colab_type": "code",
        "colab": {}
      },
      "source": [
        "fut_pred = test_size\n",
        "\n",
        "test_inputs = trainX[-500:].view(-1).cpu()\n",
        "test_inputs = test_inputs.detach().numpy().tolist()\n",
        "\n",
        "#test_inputs = trainX[number]. The number has to be more than test_size for accurate prediction."
      ],
      "execution_count": null,
      "outputs": []
    },
    {
      "cell_type": "code",
      "metadata": {
        "id": "ILVDbxRnqjON",
        "colab_type": "code",
        "colab": {}
      },
      "source": [
        "#Test Predction\n",
        "\n",
        "model.eval()\n",
        "\n",
        "for i in range(fut_pred):\n",
        "    seq = torch.FloatTensor(test_inputs[-train_window:])\n",
        "    with torch.no_grad():\n",
        "        model.hidden = (torch.zeros(1, 1, model.hidden_layer_size),\n",
        "                        torch.zeros(1, 1, model.hidden_layer_size))\n",
        "        test_inputs.append(model(seq).item())"
      ],
      "execution_count": null,
      "outputs": []
    },
    {
      "cell_type": "code",
      "metadata": {
        "id": "-N4HHxGjqjQX",
        "colab_type": "code",
        "colab": {}
      },
      "source": [
        "actual_predictions = scaler.inverse_transform(np.array(test_inputs).reshape(-1, 1))"
      ],
      "execution_count": null,
      "outputs": []
    },
    {
      "cell_type": "code",
      "metadata": {
        "id": "mby-qF6TjmJP",
        "colab_type": "code",
        "colab": {
          "base_uri": "https://localhost:8080/",
          "height": 281
        },
        "outputId": "ad9594e1-9e60-472d-dfa8-d2c4f8426065"
      },
      "source": [
        "plt.plot(actual_predictions)"
      ],
      "execution_count": null,
      "outputs": [
        {
          "output_type": "execute_result",
          "data": {
            "text/plain": [
              "[<matplotlib.lines.Line2D at 0x7f18a3752908>]"
            ]
          },
          "metadata": {
            "tags": []
          },
          "execution_count": 30
        },
        {
          "output_type": "display_data",
          "data": {
            "image/png": "[encoded data removed]",
            "text/plain": [
              "<Figure size 432x288 with 1 Axes>"
            ]
          },
          "metadata": {
            "tags": [],
            "needs_background": "light"
          }
        }
      ]
    },
    {
      "cell_type": "code",
      "metadata": {
        "id": "3mBr2NFnq0JP",
        "colab_type": "code",
        "colab": {
          "base_uri": "https://localhost:8080/",
          "height": 268
        },
        "outputId": "feb6c33d-dca4-4eab-888f-96e83a623b08"
      },
      "source": [
        "plt.figure(figsize=(10,4))\n",
        "\n",
        "#plt.plot(actual_predictions)\n",
        "plt.plot(t_modified[0:train_size], train_result[0:train_size], color = \"red\")\n",
        "plt.plot(t_modified[-test_size:], actual_predictions[:test_size], color = \"red\")\n",
        "plt.plot(t_modified, X_modified, color = \"orange\")\n",
        "#plt.xlim(0, 0.3)\n",
        "plt.xlim(0.8, 1)\n",
        "plt.ylim(0.00020, 0.0003)\n",
        "#plt.title('Regression Analysis')\n",
        "#plt.xlabel('Independent varible')\n",
        "#plt.ylabel('Dependent varible')\n",
        "plt.show()\n",
        "\n",
        "  \n"
      ],
      "execution_count": null,
      "outputs": [
        {
          "output_type": "display_data",
          "data": {
            "image/png": "[encoded data removed]",
            "text/plain": [
              "<Figure size 720x288 with 1 Axes>"
            ]
          },
          "metadata": {
            "tags": [],
            "needs_background": "light"
          }
        }
      ]
    }
  ]
}
